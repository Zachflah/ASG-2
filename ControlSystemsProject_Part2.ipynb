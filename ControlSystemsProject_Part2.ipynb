{
  "nbformat": 4,
  "nbformat_minor": 0,
  "metadata": {
    "colab": {
      "name": "ControlSystemsProject_Part2.ipynb",
      "provenance": [],
      "collapsed_sections": [],
      "include_colab_link": true
    },
    "kernelspec": {
      "display_name": "Python 3.9.2 64-bit",
      "name": "python392jvsc74a57bd0cf61a9bca076926f2c06c6416c48ac0ce05b71883bc234df3cc135790e90588b"
    },
    "language_info": {
      "codemirror_mode": {
        "name": "ipython",
        "version": 3
      },
      "file_extension": ".py",
      "mimetype": "text/x-python",
      "name": "python",
      "nbconvert_exporter": "python",
      "pygments_lexer": "ipython3",
      "version": "3.9.2"
    },
    "metadata": {
      "interpreter": {
        "hash": "cf61a9bca076926f2c06c6416c48ac0ce05b71883bc234df3cc135790e90588b"
      }
    }
  },
  "cells": [
    {
      "cell_type": "markdown",
      "metadata": {
        "id": "view-in-github",
        "colab_type": "text"
      },
      "source": [
        "<a href=\"https://colab.research.google.com/github/Zachflah/ASG-2/blob/master/ControlSystemsProject_Part2.ipynb\" target=\"_parent\"><img src=\"https://colab.research.google.com/assets/colab-badge.svg\" alt=\"Open In Colab\"/></a>"
      ]
    },
    {
      "cell_type": "markdown",
      "metadata": {
        "id": "-dbkPKbo16Jx"
      },
      "source": [
        "Welcome to Project Part 2! Please review Part 1 for instructions about how to use Google Colab."
      ]
    },
    {
      "cell_type": "code",
      "metadata": {
        "id": "AQZY2T6P15qA",
        "colab": {
          "base_uri": "https://localhost:8080/"
        },
        "outputId": "200fa9a8-0d9a-469e-f999-93a36ecb53c9"
      },
      "source": [
        "!pip install control\n",
        "!pip install slycot"
      ],
      "execution_count": 1,
      "outputs": [
        {
          "output_type": "stream",
          "text": [
            "Collecting control\n",
            "\u001b[?25l  Downloading https://files.pythonhosted.org/packages/88/87/ee6cb7cdcf4efe5634231bd688b307773629a100ec4c83b0c3eb03edd39d/control-0.9.0.tar.gz (339kB)\n",
            "\r\u001b[K     |█                               | 10kB 12.1MB/s eta 0:00:01\r\u001b[K     |██                              | 20kB 17.8MB/s eta 0:00:01\r\u001b[K     |███                             | 30kB 16.6MB/s eta 0:00:01\r\u001b[K     |███▉                            | 40kB 16.7MB/s eta 0:00:01\r\u001b[K     |████▉                           | 51kB 13.7MB/s eta 0:00:01\r\u001b[K     |█████▉                          | 61kB 14.1MB/s eta 0:00:01\r\u001b[K     |██████▊                         | 71kB 11.7MB/s eta 0:00:01\r\u001b[K     |███████▊                        | 81kB 12.6MB/s eta 0:00:01\r\u001b[K     |████████▊                       | 92kB 12.2MB/s eta 0:00:01\r\u001b[K     |█████████▋                      | 102kB 12.4MB/s eta 0:00:01\r\u001b[K     |██████████▋                     | 112kB 12.4MB/s eta 0:00:01\r\u001b[K     |███████████▋                    | 122kB 12.4MB/s eta 0:00:01\r\u001b[K     |████████████▋                   | 133kB 12.4MB/s eta 0:00:01\r\u001b[K     |█████████████▌                  | 143kB 12.4MB/s eta 0:00:01\r\u001b[K     |██████████████▌                 | 153kB 12.4MB/s eta 0:00:01\r\u001b[K     |███████████████▌                | 163kB 12.4MB/s eta 0:00:01\r\u001b[K     |████████████████▍               | 174kB 12.4MB/s eta 0:00:01\r\u001b[K     |█████████████████▍              | 184kB 12.4MB/s eta 0:00:01\r\u001b[K     |██████████████████▍             | 194kB 12.4MB/s eta 0:00:01\r\u001b[K     |███████████████████▎            | 204kB 12.4MB/s eta 0:00:01\r\u001b[K     |████████████████████▎           | 215kB 12.4MB/s eta 0:00:01\r\u001b[K     |█████████████████████▎          | 225kB 12.4MB/s eta 0:00:01\r\u001b[K     |██████████████████████▎         | 235kB 12.4MB/s eta 0:00:01\r\u001b[K     |███████████████████████▏        | 245kB 12.4MB/s eta 0:00:01\r\u001b[K     |████████████████████████▏       | 256kB 12.4MB/s eta 0:00:01\r\u001b[K     |█████████████████████████▏      | 266kB 12.4MB/s eta 0:00:01\r\u001b[K     |██████████████████████████      | 276kB 12.4MB/s eta 0:00:01\r\u001b[K     |███████████████████████████     | 286kB 12.4MB/s eta 0:00:01\r\u001b[K     |████████████████████████████    | 296kB 12.4MB/s eta 0:00:01\r\u001b[K     |█████████████████████████████   | 307kB 12.4MB/s eta 0:00:01\r\u001b[K     |██████████████████████████████  | 317kB 12.4MB/s eta 0:00:01\r\u001b[K     |███████████████████████████████ | 327kB 12.4MB/s eta 0:00:01\r\u001b[K     |███████████████████████████████▉| 337kB 12.4MB/s eta 0:00:01\r\u001b[K     |████████████████████████████████| 348kB 12.4MB/s \n",
            "\u001b[?25hRequirement already satisfied: numpy in /usr/local/lib/python3.7/dist-packages (from control) (1.19.5)\n",
            "Requirement already satisfied: scipy in /usr/local/lib/python3.7/dist-packages (from control) (1.4.1)\n",
            "Requirement already satisfied: matplotlib in /usr/local/lib/python3.7/dist-packages (from control) (3.2.2)\n",
            "Requirement already satisfied: python-dateutil>=2.1 in /usr/local/lib/python3.7/dist-packages (from matplotlib->control) (2.8.1)\n",
            "Requirement already satisfied: pyparsing!=2.0.4,!=2.1.2,!=2.1.6,>=2.0.1 in /usr/local/lib/python3.7/dist-packages (from matplotlib->control) (2.4.7)\n",
            "Requirement already satisfied: cycler>=0.10 in /usr/local/lib/python3.7/dist-packages (from matplotlib->control) (0.10.0)\n",
            "Requirement already satisfied: kiwisolver>=1.0.1 in /usr/local/lib/python3.7/dist-packages (from matplotlib->control) (1.3.1)\n",
            "Requirement already satisfied: six>=1.5 in /usr/local/lib/python3.7/dist-packages (from python-dateutil>=2.1->matplotlib->control) (1.15.0)\n",
            "Building wheels for collected packages: control\n",
            "  Building wheel for control (setup.py) ... \u001b[?25l\u001b[?25hdone\n",
            "  Created wheel for control: filename=control-0.9.0-py2.py3-none-any.whl size=344920 sha256=bd602f86f752396bdaf92d3d7d1bdec38bb0cf496fd3024c88608e0dcc00b019\n",
            "  Stored in directory: /root/.cache/pip/wheels/35/be/ee/081b68ca3e4b2d253fba2f7f7e51960373903fb7b6d13c5532\n",
            "Successfully built control\n",
            "Installing collected packages: control\n",
            "Successfully installed control-0.9.0\n",
            "Collecting slycot\n",
            "\u001b[?25l  Downloading https://files.pythonhosted.org/packages/85/21/4e7110462f3529b2fbcff8a519b61bf64e0604b8fcbe9a07649c9bed9d7a/slycot-0.4.0.0.tar.gz (1.5MB)\n",
            "\u001b[K     |████████████████████████████████| 1.6MB 11.3MB/s \n",
            "\u001b[?25h  Installing build dependencies ... \u001b[?25l\u001b[?25hdone\n",
            "  Getting requirements to build wheel ... \u001b[?25l\u001b[?25hdone\n",
            "    Preparing wheel metadata ... \u001b[?25l\u001b[?25hdone\n",
            "Requirement already satisfied: numpy in /usr/local/lib/python3.7/dist-packages (from slycot) (1.19.5)\n",
            "Building wheels for collected packages: slycot\n",
            "  Building wheel for slycot (PEP 517) ... \u001b[?25l\u001b[?25hdone\n",
            "  Created wheel for slycot: filename=slycot-0.4.0-cp37-cp37m-linux_x86_64.whl size=1417829 sha256=049362893d37bb27c4a4b602489c847ce3a2590c475642ad524dac6fb7a7aaf9\n",
            "  Stored in directory: /root/.cache/pip/wheels/a2/46/56/f82cbb2fd06556f4f3952a2eb2396e8fd29264fffecbaad3cf\n",
            "Successfully built slycot\n",
            "Installing collected packages: slycot\n",
            "Successfully installed slycot-0.4.0\n"
          ],
          "name": "stdout"
        }
      ]
    },
    {
      "cell_type": "code",
      "metadata": {
        "id": "xj2UqKIL26ew",
        "colab": {
          "base_uri": "https://localhost:8080/",
          "height": 295
        },
        "outputId": "70a93470-4196-4818-8428-ea8ed1a61dfd"
      },
      "source": [
        "import numpy as np\n",
        "import matplotlib.pyplot as plt\n",
        "import control.matlab as control\n",
        "import matplotlib.animation as animation\n",
        "from math import sin, cos, pi\n",
        "from matplotlib import rc\n",
        "from IPython.display import HTML, Image\n",
        "\n",
        "# Uncomment and set the controller gains here when you get to Activity 5.\n",
        "Kp = 10\n",
        "Ki = 10\n",
        "Kd = 10\n",
        "\n",
        "# Define the transfer functions for the linearized system. We have two transfer\n",
        "# functions for this system (Gpend(s) and Gcart(s)). Define them here by listing\n",
        "# the coefficients of the numerator and denominator polynomials. For example, if\n",
        "# the numerator polynomial is 1.1*s^3 + 2.2*s^2 - 4.4, then the coefficient list\n",
        "# is [1.1, 2.2, 0, -4.4].\n",
        "\n",
        "#comment this section if you wish to get the graphs for activity 5\n",
        "#Gpend_numer = [1,0,0]\n",
        "#Gpend_denom = [0.22,0.8,-6.87,-19.62,0]\n",
        "#Gcart_numer = [0.4,0,-9.8]\n",
        "#Gcart_denom = [0.22,0.8,-6.87,-19.62]\n",
        "\n",
        "#comment this section if you wish to get the graphs for activity 2\n",
        "Gpend_numer = [1,0,0]\n",
        "Gpend_denom = [0.22,0.8+Kd,Kp-6.87,Ki-19.62,0]\n",
        "Gcart_numer = [0.4,0,-9.8,0]\n",
        "Gcart_denom = [0.22,0.8+0.4*Kd,0.4*Kp-6.87,0.4*Ki-19.62-9.81*Kd,-9.81*Kp,-9.81*Ki]\n",
        "\n",
        "# Simulate the impulse response of the system.\n",
        "G = control.tf([[Gpend_numer],[Gcart_numer]], [[Gpend_denom],[Gcart_denom]])\n",
        "t_input = np.arange(0.0, 10.0, 0.01)\n",
        "y,t = control.impulse(G, t_input)\n",
        "phi = [row[0] for row in y]\n",
        "x = [row[1] for row in y]\n",
        "\n",
        "# Plot the response of the pendulum and cart.\n",
        "plt.figure(figsize=(12,4))\n",
        "plt.subplot(1,2,1)\n",
        "plt.title('Pendulum angle relative to vertical')\n",
        "plt.grid()\n",
        "plt.plot(t,phi)\n",
        "plt.ylabel('Angle (rad)')\n",
        "plt.xlabel('Time (s)')\n",
        "\n",
        "plt.subplot(1,2,2)\n",
        "plt.title('Cart displacement')\n",
        "plt.grid()\n",
        "plt.plot(t,x)\n",
        "plt.ylabel('Displacement (m)')\n",
        "plt.xlabel('Time (s)')\n",
        "plt.show()\n",
        "\n",
        "# Generate an animation (this may take a few seconds to run). You can disable\n",
        "# the animation by commenting out the last line (\"genAnimation\") in this block.\n",
        "fig = plt.figure(figsize=(8, 6.4))\n",
        "ax = fig.add_subplot(111, autoscale_on=False, xlim=(-5, 5), ylim=(-0.5, 3))\n",
        "ax.get_yaxis().set_visible(True)\n",
        "ax.set_aspect('equal')\n",
        "ax.grid()\n",
        "block, = ax.plot([], [], linestyle='None', marker='s', markersize=40,\n",
        "                 markeredgecolor='k', markeredgewidth=2, color='blue')\n",
        "line1, = ax.plot([], [], 'o-', lw=4, markersize=6, color='orange',\n",
        "                 markeredgecolor='k', markerfacecolor='k')\n",
        "line2, = ax.plot([], [], 'k-', lw=4)\n",
        "time_text = ''\n",
        "time_text = ax.text(0.05, 0.9, '', transform=ax.transAxes)\n",
        "cart_width = 0.8\n",
        "cart_height = 0.8\n",
        "L = 0.3\n",
        "scale = 2.0\n",
        "\n",
        "def init():\n",
        "  block.set_data([], [])\n",
        "  line1.set_data([], [])\n",
        "  line2.set_data([], [])\n",
        "  time_text.set_text('')\n",
        "  return time_text, line1, line2, block\n",
        "\n",
        "def animate(i):\n",
        "  line1.set_data([x[i], x[i] + (L*2.0*scale)*sin(phi[i])],\n",
        "                 [0.5, (cart_height*0.5) + (L*2.0*scale)*(cos(phi[i]))])\n",
        "  line2.set_data([-5, 5], [-cart_width*0.5, -cart_width*0.5])\n",
        "  block.set_data([x[i]], [0])\n",
        "  time_text.set_text('Time = ' + str(round(t[i], 1)) + ' s')\n",
        "  return time_text, line1, line2, block\n",
        "\n",
        "genAnimation = animation.FuncAnimation(fig, animate, np.arange(1, len(t)),\n",
        "                                       interval=25, blit=True, init_func=init)\n",
        "plt.close()\n",
        "rc('animation', html='jshtml')    # For compatibility with Google Colab\n",
        "#genAnimation\n"
      ],
      "execution_count": 4,
      "outputs": [
        {
          "output_type": "display_data",
          "data": {
            "image/png": "[encoded data removed]",
            "text/plain": [
              "<Figure size 864x288 with 2 Axes>"
            ]
          },
          "metadata": {
            "tags": [],
            "needs_background": "light"
          }
        }
      ]
    }
  ]
}